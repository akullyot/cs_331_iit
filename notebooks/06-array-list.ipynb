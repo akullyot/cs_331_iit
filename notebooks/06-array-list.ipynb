{
 "cells": [
  {
   "attachments": {},
   "cell_type": "markdown",
   "metadata": {},
   "source": [
    "# The Array-Backed List\n",
    "\n",
    "## Agenda\n",
    "\n",
    "1. The List **Abstract Data Type** (ADT)\n",
    "2. A List **Data Structure**\n",
    "3. The List API\n",
    "4. Getting started\n",
    "5. NumPy arrays\n",
    "6. The `ArrayList` data structure\n",
    "7. Runtime analysis"
   ]
  },
  {
   "attachments": {},
   "cell_type": "markdown",
   "metadata": {},
   "source": [
    "## 1. The List **Abstract Data Type** (ADT)\n",
    "\n",
    "- An **abstract data type (ADT)** defines a *conceptual model* for how data may be stored and accessed.\n",
    "    - distinction: abstract versus distinct: abstract is purely conceptual\n",
    "\n",
    "A **list ADT** is a data container where:\n",
    "\n",
    "- values are ordered in a *sequence*\n",
    "- each value has at most one preceding and one succeeding value\n",
    "- a given value may appear more than once in a list: not guaranteed uniqueness\n",
    "\n",
    "Other common ADTs (some of which we'll explore later) include:\n",
    "\n",
    "- Stacks\n",
    "- Queues\n",
    "- Priority Queues\n",
    "- Maps\n",
    "- Graphs\n",
    "\n",
    "\n",
    "- ADT: doesnt say naything about performance or about API (methods you can use)\n",
    "    - data structure is the implementation of the ADT\n",
    "    "
   ]
  },
  {
   "attachments": {},
   "cell_type": "markdown",
   "metadata": {},
   "source": [
    "## 2. A List **Data Structure**\n",
    "\n",
    "A **list data structure** is a *concrete implementation* of the list ADT in some programming language, which, in addition to adhering to the basic premises of the ADT, will also typically support operations that:\n",
    "\n",
    "- access values in the list by their position (index)\n",
    "- append and insert new values into the list\n",
    "- remove values from the list\n",
    "\n",
    "- The implementation of any data structure will generally rely on simpler, constituent data types (e.g., \"primitive\" types offered by the language), the choice of which may affect the runtime complexities of said operations.\n",
    "    - example: using arrays to build array backed lists\n",
    "    = example: for linked lists, need self referential data types"
   ]
  },
  {
   "attachments": {},
   "cell_type": "markdown",
   "metadata": {},
   "source": [
    "## 3. The List API\n",
    "\n",
    "The operations we'll be building into our list data structures will be based on the [common](https://docs.python.org/3.6/library/stdtypes.html#common-sequence-operations) and [mutable](https://docs.python.org/3.6/library/stdtypes.html#mutable-sequence-types) sequence operations defined by the Python library.\n",
    "\n",
    "Note: __func__ you typically call with magic method's syntactic sugar\n"
   ]
  },
  {
   "cell_type": "code",
   "execution_count": null,
   "metadata": {},
   "outputs": [],
   "source": [
    "class List:        \n",
    "    ### subscript-based access ###\n",
    "    \n",
    "    def __getitem__(self, idx):\n",
    "        \"\"\"Implements `x = self[idx]`\"\"\"\n",
    "        pass\n",
    "\n",
    "    def __setitem__(self, idx, value):\n",
    "        \"\"\"Implements `self[idx] = x`\"\"\"\n",
    "        pass\n",
    "\n",
    "    def __delitem__(self, idx):\n",
    "        \"\"\"Implements `del self[idx]`\"\"\"\n",
    "        pass\n",
    "    \n",
    "    ### stringification ###\n",
    "            \n",
    "    def __repr__(self):\n",
    "        \"\"\"Supports inspection\"\"\"\n",
    "        return '[]'\n",
    "    \n",
    "    def __str__(self):\n",
    "        \"\"\"Implements `str(self)`\"\"\"\n",
    "        return '[]'\n",
    "\n",
    "    ### single-element manipulation ###\n",
    "    \n",
    "    def append(self, value):\n",
    "        pass\n",
    "    \n",
    "    def insert(self, idx, value):\n",
    "        pass\n",
    "    \n",
    "    def pop(self, idx=-1):\n",
    "        #remove a value and return it\n",
    "        pass\n",
    "    \n",
    "    def remove(self, value):\n",
    "        pass\n",
    "    \n",
    "    ### predicates (T/F queries) ###\n",
    "    \n",
    "    def __eq__(self, other):\n",
    "        \"\"\"Implements `self == other`\"\"\"\n",
    "        return True\n",
    "\n",
    "    def __contains__(self, value):\n",
    "        \"\"\"Implements `val in self`\"\"\"\n",
    "        return True\n",
    "    \n",
    "    ### queries ###\n",
    "    \n",
    "    def __len__(self):\n",
    "        \"\"\"Implements `len(self)`\"\"\"\n",
    "        return len(self.data)\n",
    "    \n",
    "    def min(self):\n",
    "        pass\n",
    "    \n",
    "    def max(self):\n",
    "        pass\n",
    "    \n",
    "    def index(self, value, i, j):\n",
    "        pass\n",
    "    \n",
    "    def count(self, value):\n",
    "        pass\n",
    "\n",
    "    ### bulk operations ###\n",
    "\n",
    "    def __add__(self, other):\n",
    "        \"\"\"Implements `self + other_array_list`\"\"\"\n",
    "        return self\n",
    "    \n",
    "    def clear(self):\n",
    "        pass\n",
    "    \n",
    "    def copy(self):\n",
    "        pass\n",
    "\n",
    "    def extend(self, other):\n",
    "        pass\n",
    "\n",
    "    ### iteration ###\n",
    "    \n",
    "    def __iter__(self):\n",
    "        \"\"\"Supports iteration (via `iter(self)`)\"\"\"\n",
    "        pass"
   ]
  },
  {
   "attachments": {},
   "cell_type": "markdown",
   "metadata": {},
   "source": [
    "## 4. Getting started"
   ]
  },
  {
   "cell_type": "code",
   "execution_count": 10,
   "metadata": {
    "tags": []
   },
   "outputs": [],
   "source": [
    "class List:\n",
    "    def append(self, value):\n",
    "        self.val = value\n",
    "    \n",
    "    def __getitem__(self, idx):\n",
    "        #implements indexing\n",
    "        # when an object is indexed, idx is passed in as a parameter, thus we can use it \n",
    "        \"\"\"Implements `x = self[idx]`\"\"\"\n",
    "        #right now we only have one value\n",
    "        return self.val\n",
    "\n",
    "    def __setitem__(self, idx, value):\n",
    "        \"\"\"Implements `self[idx] = x`\"\"\"\n",
    "        #still dont have indexing\n",
    "        self.val =  value\n",
    "    \n",
    "    def __repr__(self):\n",
    "        \"\"\"Supports inspection\"\"\"\n",
    "        #method that gets called to return/retrieve the string representation of an object\n",
    "        return f'[{repr(self.val)}]'"
   ]
  },
  {
   "cell_type": "code",
   "execution_count": 12,
   "metadata": {},
   "outputs": [],
   "source": [
    "l = List()\n",
    "l.append(42)"
   ]
  },
  {
   "cell_type": "code",
   "execution_count": 16,
   "metadata": {},
   "outputs": [
    {
     "data": {
      "text/plain": [
       "[331]"
      ]
     },
     "execution_count": 16,
     "metadata": {},
     "output_type": "execute_result"
    }
   ],
   "source": [
    "l # equivalent to l.__repr__(), also equivalent to repr(l)"
   ]
  },
  {
   "cell_type": "code",
   "execution_count": 14,
   "metadata": {},
   "outputs": [
    {
     "data": {
      "text/plain": [
       "42"
      ]
     },
     "execution_count": 14,
     "metadata": {},
     "output_type": "execute_result"
    }
   ],
   "source": [
    "l[0] # equivalent to l.__getitem__(0)"
   ]
  },
  {
   "cell_type": "code",
   "execution_count": 15,
   "metadata": {},
   "outputs": [],
   "source": [
    "l[0] = 331 # equivalent to l.__setitem__(0, 331)"
   ]
  },
  {
   "cell_type": "code",
   "execution_count": 17,
   "metadata": {},
   "outputs": [
    {
     "data": {
      "text/plain": [
       "331"
      ]
     },
     "execution_count": 17,
     "metadata": {},
     "output_type": "execute_result"
    }
   ],
   "source": [
    "l[500] #we still dont have indexing implemented, so its still just returning self.val"
   ]
  },
  {
   "cell_type": "code",
   "execution_count": 18,
   "metadata": {},
   "outputs": [
    {
     "data": {
      "text/plain": [
       "[331]"
      ]
     },
     "execution_count": 18,
     "metadata": {},
     "output_type": "execute_result"
    }
   ],
   "source": [
    "l"
   ]
  },
  {
   "attachments": {},
   "cell_type": "markdown",
   "metadata": {},
   "source": [
    "Of course, we need our list implementation to hold more than a single element. The obvious solution for this is to use an *array*."
   ]
  },
  {
   "attachments": {},
   "cell_type": "markdown",
   "metadata": {},
   "source": [
    "## 5. NumPy arrays\n",
    "\n",
    "Python does not come with a built-in array type. Instead, we're going to make use of the array implementation provided by the [NumPy scientific computing package](https://numpy.org/doc/stable/user/absolute_beginners.html).\n",
    "\n",
    "To create a NumPy array of size N, we can do:"
   ]
  },
  {
   "cell_type": "code",
   "execution_count": 21,
   "metadata": {},
   "outputs": [
    {
     "data": {
      "text/plain": [
       "array([None, None, None, None, None, None, None, None, None, None],\n",
       "      dtype=object)"
      ]
     },
     "execution_count": 21,
     "metadata": {},
     "output_type": "execute_result"
    }
   ],
   "source": [
    "import numpy as np\n",
    "\n",
    "#create an array with N slots ( you have to carve out a fixed number of slots)\n",
    "N = 10\n",
    "arr = np.empty(N, dtype=object) #dtype: the data type i mean to hold in this array is the object, thus i want my array to hold references (so size doesnt matter)\n",
    "\n",
    "arr"
   ]
  },
  {
   "attachments": {},
   "cell_type": "markdown",
   "metadata": {},
   "source": [
    "The `dtype=object` specification indicates that we want to use the array to store references to arbitrary Python objects. The `empty` function creates an array of the specified size, but leaves all elements uninitialized."
   ]
  },
  {
   "cell_type": "code",
   "execution_count": 22,
   "metadata": {},
   "outputs": [],
   "source": [
    "for i in range(5):\n",
    "    arr[i] = i\n",
    "\n",
    "arr[0]  = 'hello'\n",
    "arr[4] = 'world'"
   ]
  },
  {
   "cell_type": "code",
   "execution_count": 23,
   "metadata": {},
   "outputs": [
    {
     "data": {
      "text/plain": [
       "array(['hello', 1, 2, 3, 'world', None, None, None, None, None],\n",
       "      dtype=object)"
      ]
     },
     "execution_count": 23,
     "metadata": {},
     "output_type": "execute_result"
    }
   ],
   "source": [
    "arr"
   ]
  },
  {
   "cell_type": "code",
   "execution_count": 24,
   "metadata": {},
   "outputs": [
    {
     "data": {
      "text/plain": [
       "10"
      ]
     },
     "execution_count": 24,
     "metadata": {},
     "output_type": "execute_result"
    }
   ],
   "source": [
    "len(arr)"
   ]
  },
  {
   "attachments": {},
   "cell_type": "markdown",
   "metadata": {},
   "source": [
    "Recall that arrays are **fixed-size**, so we cannot append, insert, or delete elements to/from them directly. These operations must be implemented by the data structure we build *on top of* the array.\n",
    "\n",
    "- I.e., *an array is not a data structure*! It is a low-level *data storage* mechanism.\n",
    "    - meant for just indexing and length getting"
   ]
  },
  {
   "attachments": {},
   "cell_type": "markdown",
   "metadata": {},
   "source": [
    "## 6. The `ArrayList` data structure"
   ]
  },
  {
   "attachments": {},
   "cell_type": "markdown",
   "metadata": {},
   "source": [
    "Our list data structure will make use of a NumPy array as its backing data store. This array will have a fixed initial size, but as elements are added to the list it may become necessary to create a new, larger backing array and copy our elements over. Each time we create a new backing array, we will *double the capacity of the original* -- this may seem arbitrary now, but we will see why it is a critical detail later on!"
   ]
  },
  {
   "cell_type": "code",
   "execution_count": 60,
   "metadata": {},
   "outputs": [],
   "source": [
    "import numpy as np\n",
    "# each list index corresponds to an array index, and its direct (values in list is different than slots in the array)\n",
    "# but how do we grow and resize an array? There are methods but they arent always successful, so lets not do that. When we run out of slots we need to make a new array\n",
    "    # option: array with one slot, every time we add an element we have to make a new array with one slot and fill it, and thus each time we do it we have to iteratively copy over\n",
    "    #          the entire array\n",
    "    # improvement: so how many extra slots should we carve out \n",
    "    #               reverse out way into it, simply double the size of our array\n",
    "    #               analyze rigorously later on runtime performance (amoritized runtime, average case)\n",
    "\n",
    "class ArrayList:\n",
    "    def __init__(self):\n",
    "        self.data = np.empty(1, dtype=object) #refers to our backing array\n",
    "        self.size = 0 # number of (logical) elements in the list, NOT SLOTS IN THE BACKING ARRAY\n",
    "\n",
    "\n",
    "    def append(self, value):\n",
    "        if self.size == len(self.data):\n",
    "            print(\"doubling\")\n",
    "            #double the size of our array\n",
    "            tmpdata = np.empty(len(self.data) *2, dtype=object)\n",
    "            for i in range(len(self.data)):\n",
    "                tmpdata[i] = self.data[i]\n",
    "            self.data = tmpdata\n",
    "        self.data[self.size] = value \n",
    "        self.size +=1\n",
    "\n",
    "    def _normalize_and_check_index(self, idx):\n",
    "        assert isinstance(idx, int), 'Index must be an integer'\n",
    "        #convert to a positive index\n",
    "        if idx < 0:\n",
    "            idx += self.size \n",
    "        if idx < 0 or idx >= self.size:\n",
    "           raise IndexError(\"list index out of range\")\n",
    "        return idx\n",
    "\n",
    "\n",
    "    def __getitem__(self, idx):\n",
    "        \"\"\"Implements `x = self[idx]`\"\"\"\n",
    "        idx = self._normalize_and_check_index(idx)\n",
    "        return self.data[idx]\n",
    "    \n",
    "\n",
    "    def __setitem__(self, idx, value):\n",
    "        \"\"\"Implements `self[idx] = x`\"\"\"\n",
    "        idx = self._normalize_and_check_index(idx)\n",
    "        self.data[idx] = value \n",
    "        \n",
    "\n",
    "    def __delitem__(self, idx):\n",
    "        \"\"\"Implements `del self[idx]`\"\"\"\n",
    "        idx = self._normalize_and_check_index(idx)\n",
    "        # have to move everything down starting from idx +1 \n",
    "        for i in range(idx, self.size -1):\n",
    "            self.data[i] = self.data[i+1]\n",
    "        self.size -= 1\n",
    "        #note to self we are not shrinking the array\n",
    "        \n",
    "    \n",
    "    def __len__(self):\n",
    "        \"\"\"Implements `len(self)`\"\"\"\n",
    "        return self.size # note: not the same as `len(self.data)`!\n",
    "    \n",
    "    \n",
    "    def __repr__(self):\n",
    "        \"\"\"Supports inspection\"\"\"\n",
    "        repr_elems = [repr(self.data[i]) for i in range(self.size)]\n",
    "        return '[' + ', '.join(repr_elems) + ']'"
   ]
  },
  {
   "cell_type": "code",
   "execution_count": 61,
   "metadata": {},
   "outputs": [
    {
     "name": "stdout",
     "output_type": "stream",
     "text": [
      "doubling\n",
      "doubling\n",
      "doubling\n",
      "doubling\n"
     ]
    },
    {
     "data": {
      "text/plain": [
       "([0, 1, 2, 3, 4, 5, 6, 7, 8, 9],\n",
       " 16,\n",
       " array([0, 1, 2, 3, 4, 5, 6, 7, 8, 9, None, None, None, None, None, None],\n",
       "       dtype=object))"
      ]
     },
     "execution_count": 61,
     "metadata": {},
     "output_type": "execute_result"
    }
   ],
   "source": [
    "l = ArrayList()\n",
    "# 4 doubling and copying operations\n",
    "# 1 -> 2 -> 4 -> 8 -> 16 -> 32 -> 64 -> 128 .... 2^i length 10, have to do 5, length 100, have to do 7, so n = log_2(n) times needed to double\n",
    "for x in range(10):\n",
    "    l.append(x)\n",
    "l, len(l.data), l.data"
   ]
  },
  {
   "cell_type": "code",
   "execution_count": 57,
   "metadata": {},
   "outputs": [
    {
     "data": {
      "text/plain": [
       "['hello', 1, 2, 3, 4, 5, 6, 7, 8, 'world']"
      ]
     },
     "execution_count": 57,
     "metadata": {},
     "output_type": "execute_result"
    }
   ],
   "source": [
    "l[5]\n",
    "l[0] = 'hello'\n",
    "l[-1] = 'world'\n",
    "l"
   ]
  },
  {
   "cell_type": "code",
   "execution_count": 58,
   "metadata": {},
   "outputs": [
    {
     "data": {
      "text/plain": [
       "['hello', 1, 'two', 3, 4, 5, 6, 'seven', 8, 'world']"
      ]
     },
     "execution_count": 58,
     "metadata": {},
     "output_type": "execute_result"
    }
   ],
   "source": [
    "l[2] = 'two'\n",
    "l[-3] = 'seven'\n",
    "l"
   ]
  },
  {
   "cell_type": "code",
   "execution_count": 59,
   "metadata": {},
   "outputs": [
    {
     "data": {
      "text/plain": [
       "['hello', 1, 'two', 3, 4, 6, 'seven', 8, 'world']"
      ]
     },
     "execution_count": 59,
     "metadata": {},
     "output_type": "execute_result"
    }
   ],
   "source": [
    "del l[5]\n",
    "l"
   ]
  },
  {
   "cell_type": "code",
   "execution_count": null,
   "metadata": {},
   "outputs": [],
   "source": [
    "del l[0]\n",
    "del l[-1]\n",
    "l"
   ]
  },
  {
   "cell_type": "code",
   "execution_count": null,
   "metadata": {},
   "outputs": [],
   "source": [
    "len(l)"
   ]
  },
  {
   "attachments": {},
   "cell_type": "markdown",
   "metadata": {},
   "source": [
    "## 7. Runtime analysis"
   ]
  },
  {
   "attachments": {},
   "cell_type": "markdown",
   "metadata": {},
   "source": [
    "n is the number of logical elements\n",
    "- Indexing: $O(1)$ \n",
    "    - accessing an element by reading and writing, enabled by __get_item__ method, this is constant, the operation is just to take the base + displacement computation\n",
    "    - assigning is by __setitem__\n",
    "\n",
    "- Search (unsorted): $O(n)$\n",
    "    - implemented by __contains__\n",
    "    - check every element, and return if you hit it, thus worst case its ats the end of the list or not in it at all\n",
    "\n",
    "- Search (sorted, using binary search): $O(\\log n)$\n",
    "    - we are assuming its already sorted \n",
    "    - its necesarry that we can jump to specific elements (namely the middles) in contstant time, and we can \n",
    "\n",
    "- Deletion: $O(n)$\n",
    "    - method is __delitem__, remember we arent shrinking the array\n",
    "    - we have to access each element O(1) and then iterate over to redefine the new location\n",
    "    - so if we delete k, we have to move k - 1 elements down \n",
    "    - worst case we delete the 0th element \n",
    "\n",
    "- Append: $O(n)$ worst case, amortized $O(1)$\n",
    "    - two cases, youre filled up or youre not filled up, there is space for another \n",
    "        - not filled up, index up which is constant and add it on\n",
    "        - filled up \n",
    "            - double the size of the array, and then iterate over your old array to the new one, requires n-1 copying operations\n",
    "            - O(n) where n is the number of items you have \n",
    "        - but consider: as array gets bigger and bigger, the likelihood of it being filled up is lower and lower\n",
    "            - more granular analysis \n",
    "                - only countring data movements, backing array of n=1\n",
    "                    look at backging graphic on append and operations\n",
    "                    -amortized costs, with our current procedure we are getting a lot of 1's when we have nonfilled arrays\n",
    "                        - we find 3 works, why?\n",
    "                            - first note: its a cosntant cost, its an amoritized constant value \n",
    "                            - this is the average cost for each element, and you have 3. Youve noticed you drop down to 3 after each new build \n",
    "                                - 3 gives us enough space to save up \n",
    "                                        -1 credit is paid to copy the element into an array (yourself)\n",
    "                                        -1 credit is paid for first used to move the element over the first time (future self)\n",
    "                                        - one credit is used to move the element at i-2^(log_2(i)) (another person in array under you )\n",
    "- Insertion: $O(N)$\n",
    "    - similiar to append, you put a new element in and everything is moved up, so you do need a new slot \n",
    "        - move k .... n elements up to make space for x \n",
    "        -   worst case, everything has to be shifted over one, this is (O(1) amortized append, +O(N) shifts)"
   ]
  },
  {
   "attachments": {},
   "cell_type": "markdown",
   "metadata": {},
   "source": [
    "### Not doubling?\n",
    "\n",
    "If we chose to expand the array by a constant amount instead of doubling it, what would be the amortized runtime for append?"
   ]
  },
  {
   "cell_type": "code",
   "execution_count": 62,
   "metadata": {},
   "outputs": [],
   "source": [
    "import numpy as np\n",
    "\n",
    "class ArrayList:\n",
    "    def __init__(self):\n",
    "        self.data = np.empty(1, dtype=object)\n",
    "        self.size = 0\n",
    "\n",
    "\n",
    "    def append(self, value, doubling=True):\n",
    "        if self.size == len(self.data):\n",
    "            if doubling:\n",
    "                nsize = 2 * len(self.data)\n",
    "            else:\n",
    "                nsize = len(self.data) + 1000\n",
    "\n",
    "            ndata = np.empty(nsize, dtype=object)\n",
    "            for i in range(len(self.data)):\n",
    "                ndata[i] = self.data[i]\n",
    "            self.data = ndata\n",
    "            \n",
    "        self.data[self.size] = value\n",
    "        self.size += 1"
   ]
  },
  {
   "cell_type": "code",
   "execution_count": 63,
   "metadata": {},
   "outputs": [
    {
     "data": {
      "image/png": "[encoded data removed]",
      "text/plain": [
       "<Figure size 640x480 with 1 Axes>"
      ]
     },
     "metadata": {},
     "output_type": "display_data"
    }
   ],
   "source": [
    "# plot average runtime of `append` for doubling vs. non-doubling strategies,\n",
    "# as a function of the total number of elements appended\n",
    "\n",
    "import timeit\n",
    "import matplotlib.pyplot as plt\n",
    "\n",
    "ns = np.linspace(1000, 10_000, 50, dtype=int)\n",
    "ts1 = [timeit.timeit(stmt=f'for _ in range({n}):'\n",
    "                          f'    lst.append(None, doubling=True)', \n",
    "                     setup='lst = ArrayList()',\n",
    "                     globals=globals(), \n",
    "                     number=10) / n\n",
    "       for n in ns]\n",
    "ts2 = [timeit.timeit(stmt=f'for _ in range({n}): '\n",
    "                          f'    lst.append(None, doubling=False)', \n",
    "                     setup='lst = ArrayList()',\n",
    "                     globals=globals(), \n",
    "                     number=10) / n\n",
    "       for n in ns]\n",
    "\n",
    "plt.plot(ns, ts1, 'ob')\n",
    "plt.plot(ns, ts2, 'or');"
   ]
  },
  {
   "attachments": {},
   "cell_type": "markdown",
   "metadata": {},
   "source": [
    "Note how doubling the array size (in blue) gives us a *constant amortized runtime*.\n",
    "\n",
    "- Not doubling the array size (in red) gives us a *linear amortized runtime*! (We won't prove this directly, but can easily observe it.)\n",
    "    - do proof yourself"
   ]
  }
 ],
 "metadata": {
  "kernelspec": {
   "display_name": "Python 3",
   "language": "python",
   "name": "python3"
  },
  "language_info": {
   "codemirror_mode": {
    "name": "ipython",
    "version": 3
   },
   "file_extension": ".py",
   "mimetype": "text/x-python",
   "name": "python",
   "nbconvert_exporter": "python",
   "pygments_lexer": "ipython3",
   "version": "3.10.13"
  }
 },
 "nbformat": 4,
 "nbformat_minor": 4
}
