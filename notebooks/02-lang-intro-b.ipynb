{
 "cells": [
  {
   "attachments": {},
   "cell_type": "markdown",
   "metadata": {
    "state": "normal"
   },
   "source": [
    "# Python Language Intro (Part 2)"
   ]
  },
  {
   "attachments": {},
   "cell_type": "markdown",
   "metadata": {
    "state": "normal"
   },
   "source": [
    "## Agenda\n",
    "\n",
    "1. Language overview\n",
    "    - DONE\n",
    "2. White space sensitivity\n",
    "    - DONE\n",
    "3. Basic Types and Operations\n",
    "    - DONE\n",
    "4. Statements & Control Structures\n",
    "5. Functions\n",
    "6. OOP (Classes, Methods, etc.)\n",
    "7. Immutable Sequence Types (Strings, Ranges, Tuples)\n",
    "8. Mutable data structures: Lists, Sets, Dictionaries"
   ]
  },
  {
   "attachments": {},
   "cell_type": "markdown",
   "metadata": {
    "state": "normal"
   },
   "source": [
    "## 4. Statements & Control Structures\n",
    "    - what does statement mean? Statement has \"state\" in it, a statement affects the state of your program\n",
    "    - Note: functional programming languages do not have state"
   ]
  },
  {
   "attachments": {},
   "cell_type": "markdown",
   "metadata": {
    "state": "normal"
   },
   "source": [
    "### Assignment"
   ]
  },
  {
   "cell_type": "code",
   "execution_count": null,
   "metadata": {
    "state": "normal"
   },
   "outputs": [],
   "source": [
    "# simple, single target assignment\n",
    "a = 0\n",
    "b = 'hello'\n",
    "c = True"
   ]
  },
  {
   "cell_type": "code",
   "execution_count": null,
   "metadata": {
    "state": "normal"
   },
   "outputs": [],
   "source": [
    "# can also assign to target \"lists\"\n",
    "# can assign from a list to the right to a list to the left \n",
    "# parens around tuples are optional, but we are creating two tuples with the same arity and it can tell we are assigning using this\n",
    "a, b, c = 0, 'hello', True"
   ]
  },
  {
   "cell_type": "code",
   "execution_count": null,
   "metadata": {},
   "outputs": [],
   "source": [
    "a, b, c  # note that parentheses are optional for tuples"
   ]
  },
  {
   "cell_type": "code",
   "execution_count": 3,
   "metadata": {
    "state": "normal"
   },
   "outputs": [
    {
     "name": "stdout",
     "output_type": "stream",
     "text": [
      "3 5 6\n"
     ]
    }
   ],
   "source": [
    "# note: expression on right is fully evaluated, then are assigned to\n",
    "#       elements in the \"target\" list, from left to right\n",
    "\n",
    "x, y, z = 1, 2, 3 # these are already final values\n",
    "x, y, z = x+y, y+z, x+y+z \n",
    "#assigning to expressions, are we updating each of these one at a time and updating it? \n",
    "# Do the stateful updates occur in between or is the state changed after evaluating all 3 first?\n",
    "# often times this is called parallel assignment, we are assigning in parallel not in serial \n",
    "print(x, y, z)"
   ]
  },
  {
   "cell_type": "code",
   "execution_count": 4,
   "metadata": {},
   "outputs": [
    {
     "data": {
      "text/plain": [
       "(3, 5, 6)"
      ]
     },
     "execution_count": 4,
     "metadata": {},
     "output_type": "execute_result"
    }
   ],
   "source": [
    "#its the latter\n",
    "x, y, z"
   ]
  },
  {
   "cell_type": "code",
   "execution_count": null,
   "metadata": {
    "state": "normal"
   },
   "outputs": [],
   "source": [
    "# easy python \"swap\"\n",
    "# this wouldnt work if it updated serially, but because its a parallel update we can\n",
    "a, b = 'apples', 'bananas'\n",
    "a, b = b, a"
   ]
  },
  {
   "cell_type": "code",
   "execution_count": null,
   "metadata": {},
   "outputs": [],
   "source": [
    "a, b"
   ]
  },
  {
   "cell_type": "code",
   "execution_count": 5,
   "metadata": {
    "state": "normal"
   },
   "outputs": [],
   "source": [
    "# note: order is significant!\n",
    "# even though its in parallel it is still kind of left and right \n",
    "a, b, a = 1, 2, 3"
   ]
  },
  {
   "cell_type": "code",
   "execution_count": 6,
   "metadata": {},
   "outputs": [
    {
     "data": {
      "text/plain": [
       "(3, 2)"
      ]
     },
     "execution_count": 6,
     "metadata": {},
     "output_type": "execute_result"
    }
   ],
   "source": [
    "a, b"
   ]
  },
  {
   "cell_type": "code",
   "execution_count": 7,
   "metadata": {
    "state": "normal"
   },
   "outputs": [
    {
     "data": {
      "text/plain": [
       "True"
      ]
     },
     "execution_count": 7,
     "metadata": {},
     "output_type": "execute_result"
    }
   ],
   "source": [
    "# can also have multiple assignments in a row -- consistent with\n",
    "# above: expression is evaluated first, then assigned to all targets\n",
    "# from left to right (note: this ordering may be significant!)\n",
    "\n",
    "# the order of assignment we even think of we have the value None, shove it into z, and then y, and then x (C, C++, Java)\n",
    "# python doesnt do this :\n",
    "#   1. evaluate expression first\n",
    "#   2. Start assigning to the LHS\n",
    "x = y = z = None\n",
    "q = None"
   ]
  },
  {
   "attachments": {},
   "cell_type": "markdown",
   "metadata": {
    "state": "normal"
   },
   "source": [
    "### Augmented assignment"
   ]
  },
  {
   "cell_type": "code",
   "execution_count": null,
   "metadata": {
    "state": "normal"
   },
   "outputs": [],
   "source": [
    "# standard fair in c family languages \n",
    "a = 0\n",
    "a += 2\n",
    "a *= 3\n",
    "a"
   ]
  },
  {
   "attachments": {},
   "cell_type": "markdown",
   "metadata": {
    "state": "normal"
   },
   "source": [
    "### `pass`"
   ]
  },
  {
   "attachments": {},
   "cell_type": "markdown",
   "metadata": {
    "state": "normal"
   },
   "source": [
    "**`pass`** is the \"do nothing\" statement"
   ]
  },
  {
   "cell_type": "code",
   "execution_count": null,
   "metadata": {
    "state": "normal"
   },
   "outputs": [],
   "source": [
    "# this doesnt affect state, it just does nothing, its an idle statement or a no op \n",
    "# equivalent to {} but it doesnt have delimiters\n",
    "pass"
   ]
  },
  {
   "cell_type": "code",
   "execution_count": null,
   "metadata": {
    "state": "normal"
   },
   "outputs": [],
   "source": [
    "# function with no body\n",
    "def foo():\n",
    "    pass # useful for providing implementation stubs"
   ]
  },
  {
   "attachments": {},
   "cell_type": "markdown",
   "metadata": {
    "state": "normal"
   },
   "source": [
    "### `if`-`else` statements"
   ]
  },
  {
   "cell_type": "code",
   "execution_count": 34,
   "metadata": {
    "state": "normal"
   },
   "outputs": [
    {
     "name": "stdout",
     "output_type": "stream",
     "text": [
      "True\n"
     ]
    },
    {
     "data": {
      "text/plain": [
       "(81, 'B', False)"
      ]
     },
     "execution_count": 34,
     "metadata": {},
     "output_type": "execute_result"
    }
   ],
   "source": [
    "# to import libraries which are defined in modules\n",
    "import random\n",
    "\n",
    "score = random.randint(50, 100) # generate a random integer in [50,100]\n",
    "grade = None #initialize grade to none\n",
    "test = grade #inclusion to ask about when test and grade stop pointing at the same object\n",
    "print(test is grade)\n",
    "\n",
    "if score >= 90:\n",
    "    grade = 'A'\n",
    "elif score >= 80:\n",
    "    grade = 'B'\n",
    "elif score >= 70:\n",
    "    grade = 'C'\n",
    "elif score >= 60:\n",
    "    grade = 'D'\n",
    "else:\n",
    "    grade = 'E'\n",
    "\n",
    "(score, grade, (test is grade))"
   ]
  },
  {
   "attachments": {},
   "cell_type": "markdown",
   "metadata": {
    "state": "normal"
   },
   "source": [
    "### `while` loops"
   ]
  },
  {
   "cell_type": "code",
   "execution_count": 16,
   "metadata": {
    "state": "normal"
   },
   "outputs": [
    {
     "name": "stdout",
     "output_type": "stream",
     "text": [
      "0\n",
      "1\n",
      "1\n",
      "2\n",
      "3\n",
      "5\n",
      "8\n",
      "13\n",
      "21\n",
      "34\n",
      "55\n",
      "89\n"
     ]
    }
   ],
   "source": [
    "f0 = 0\n",
    "f1 = 1\n",
    "while f0 < 100:\n",
    "    print(f0)\n",
    "    # each time its less than 1 you reassing \n",
    "    f0, f1 = f1, f0+f1"
   ]
  },
  {
   "cell_type": "code",
   "execution_count": 18,
   "metadata": {
    "state": "normal"
   },
   "outputs": [
    {
     "name": "stdout",
     "output_type": "stream",
     "text": [
      "55 is a Fibonacci number!\n"
     ]
    }
   ],
   "source": [
    "# interesting implementation of the while loop \n",
    "to_find = 55\n",
    "# this is your sentinel\n",
    "found = False\n",
    "\n",
    "f0 = 0\n",
    "f1 = 1\n",
    "while f0 <= to_find:\n",
    "    if to_find == f0:\n",
    "        print(f'{to_find} is a Fibonacci number!')\n",
    "        found = True\n",
    "        break\n",
    "    f0, f1 = f1, f0+f1\n",
    "\n",
    "if not found:\n",
    "    print(f'{to_find} is not a Fibonacci number!')"
   ]
  },
  {
   "attachments": {},
   "cell_type": "markdown",
   "metadata": {},
   "source": [
    "To simplify the implementation pattern above, we can attach an `else` clause to the `while` loop itself. This `else` clause will only be evaluated if the `while` loop does NOT terminate early (e.g., by `break` or `return`)"
   ]
  },
  {
   "cell_type": "code",
   "execution_count": 20,
   "metadata": {
    "state": "normal"
   },
   "outputs": [
    {
     "name": "stdout",
     "output_type": "stream",
     "text": [
      "100 is not a Fibonacci number!\n"
     ]
    }
   ],
   "source": [
    "to_find = 100\n",
    "# no sentinel anymore \n",
    "f0 = 0\n",
    "f1 = 1\n",
    "while f0 <= to_find:\n",
    "    if to_find == f0:\n",
    "        #here, if i hit this im skipping the else because it breaks\n",
    "        print(f'{to_find} is a Fibonacci number!')\n",
    "        break\n",
    "    f0, f1 = f1, f0+f1\n",
    "# strange else clause on a while loop, its signifying that you didnt find what you were looking for, so if you dont break out of the while loop, you didnt find what you were looking for \n",
    "else: \n",
    "    print(f'{to_find} is not a Fibonacci number!')\n",
    "\n",
    "# you cna also attach this sort of else to for loops"
   ]
  },
  {
   "attachments": {},
   "cell_type": "markdown",
   "metadata": {
    "state": "normal"
   },
   "source": [
    "### Exception Handling"
   ]
  },
  {
   "cell_type": "code",
   "execution_count": 21,
   "metadata": {
    "state": "normal"
   },
   "outputs": [
    {
     "ename": "Exception",
     "evalue": "Boom!",
     "output_type": "error",
     "traceback": [
      "\u001b[0;31m---------------------------------------------------------------------------\u001b[0m",
      "\u001b[0;31mException\u001b[0m                                 Traceback (most recent call last)",
      "Cell \u001b[0;32mIn[21], line 3\u001b[0m\n\u001b[1;32m      1\u001b[0m \u001b[38;5;66;03m# throw is raise \u001b[39;00m\n\u001b[0;32m----> 3\u001b[0m \u001b[38;5;28;01mraise\u001b[39;00m \u001b[38;5;167;01mException\u001b[39;00m(\u001b[38;5;124m'\u001b[39m\u001b[38;5;124mBoom!\u001b[39m\u001b[38;5;124m'\u001b[39m)\n",
      "\u001b[0;31mException\u001b[0m: Boom!"
     ]
    }
   ],
   "source": [
    "# throw is raise \n",
    "# exceptor class, you give some sort of exception explaantion\n",
    "# interpreter catches the exception and tells you where it happened and will show the stack trace \n",
    "raise Exception('Boom!')"
   ]
  },
  {
   "cell_type": "code",
   "execution_count": 22,
   "metadata": {
    "state": "normal"
   },
   "outputs": [
    {
     "ename": "NotImplementedError",
     "evalue": "",
     "output_type": "error",
     "traceback": [
      "\u001b[0;31m---------------------------------------------------------------------------\u001b[0m",
      "\u001b[0;31mNotImplementedError\u001b[0m                       Traceback (most recent call last)",
      "Cell \u001b[0;32mIn[22], line 1\u001b[0m\n\u001b[0;32m----> 1\u001b[0m \u001b[38;5;28;01mraise\u001b[39;00m \u001b[38;5;167;01mNotImplementedError\u001b[39;00m()\n",
      "\u001b[0;31mNotImplementedError\u001b[0m: "
     ]
    }
   ],
   "source": [
    "#slight difference between error and exception\n",
    "# this is a common type of error\n",
    "raise NotImplementedError()"
   ]
  },
  {
   "cell_type": "code",
   "execution_count": 26,
   "metadata": {
    "state": "normal"
   },
   "outputs": [
    {
     "name": "stdout",
     "output_type": "stream",
     "text": [
      "hello\n",
      "Exception encountered!\n"
     ]
    }
   ],
   "source": [
    "# very useful in handling exceptions a lot later \n",
    "try:\n",
    "    print(\"hello\")\n",
    "    raise Exception('Boom')\n",
    "    ##foo(); example, if foo has an exception that isnt handled it will rise up the stack and then be handled here\n",
    "    print(\"bye\")\n",
    "except:\n",
    "    pass\n",
    "    # this is handling it, so you dont see your exception comment because you handled it \n",
    "    print('Exception encountered!')"
   ]
  },
  {
   "cell_type": "code",
   "execution_count": 27,
   "metadata": {
    "state": "normal"
   },
   "outputs": [
    {
     "name": "stdout",
     "output_type": "stream",
     "text": [
      "ArithmeticError: Eeek!\n",
      "Done\n"
     ]
    }
   ],
   "source": [
    "try:\n",
    "    raise ArithmeticError('Eeek!')\n",
    "# defining what exactly we are doing to handle them by matching exception clause IN ORDER\n",
    "# inheritance has to be taken into consideration, as every exception is a subclass of the Exception class\n",
    "# as e: we are actually accessing the exception itself now by doing this \n",
    "except LookupError as e:\n",
    "    print('LookupError:', e)\n",
    "except ArithmeticError as e:\n",
    "    print('ArithmeticError:', e)\n",
    "except Exception as e:\n",
    "    print(e)\n",
    "#ALWAYS EXECUTED REGARDLESS OF EXCEPTIONS\n",
    "finally:\n",
    "    #usually cleanup code, deallocating, etc \n",
    "    print('Done')"
   ]
  },
  {
   "attachments": {},
   "cell_type": "markdown",
   "metadata": {
    "state": "normal"
   },
   "source": [
    "### `for` loops (iteration)"
   ]
  },
  {
   "cell_type": "code",
   "execution_count": null,
   "metadata": {
    "state": "normal"
   },
   "outputs": [],
   "source": [
    "#exclusively for iterating over things \n",
    "# behind the scenes of iteration coming soon and is VERY IMPORTANT  \n",
    "# gets at values in succession in some object that is iterable (sequences, etc..)\n",
    "for x in range(10): #range(n) = [0,1,....,(n-1)], so youre telling it the end\n",
    "    print(x)"
   ]
  },
  {
   "cell_type": "code",
   "execution_count": 28,
   "metadata": {
    "state": "normal"
   },
   "outputs": [
    {
     "name": "stdout",
     "output_type": "stream",
     "text": [
      "9\n",
      "18\n",
      "27\n",
      "36\n",
      "45\n",
      "54\n",
      "63\n",
      "72\n"
     ]
    }
   ],
   "source": [
    "for i in range(9, 81, 9): #range(i,j,k) i,j,k = beginning, end, step, note: the end doesnt need to match a multiple that comes up \n",
    "    print(i)"
   ]
  },
  {
   "cell_type": "code",
   "execution_count": 29,
   "metadata": {
    "state": "normal"
   },
   "outputs": [
    {
     "name": "stdout",
     "output_type": "stream",
     "text": [
      "h\n",
      "e\n",
      "l\n",
      "l\n",
      "o\n",
      " \n",
      "w\n",
      "o\n",
      "r\n",
      "l\n",
      "d\n"
     ]
    }
   ],
   "source": [
    "# all sequences are iterable \n",
    "\n",
    "for c in 'hello world':\n",
    "    print(c)"
   ]
  },
  {
   "cell_type": "code",
   "execution_count": 33,
   "metadata": {
    "state": "normal"
   },
   "outputs": [
    {
     "name": "stdout",
     "output_type": "stream",
     "text": [
      "Completed loop and did not find 500\n"
     ]
    }
   ],
   "source": [
    "#similar to while, if theres a break, you can attach an else that executes if you dont hit the break in the provided range \n",
    "#often isnt really used \n",
    "to_find = 500\n",
    "for i in range(100):\n",
    "    if i == to_find:\n",
    "        break\n",
    "else:\n",
    "    print(f'Completed loop and did not find {to_find}')"
   ]
  },
  {
   "attachments": {},
   "cell_type": "markdown",
   "metadata": {
    "state": "normal"
   },
   "source": [
    "## 5. Functions"
   ]
  },
  {
   "cell_type": "code",
   "execution_count": 35,
   "metadata": {
    "state": "normal"
   },
   "outputs": [
    {
     "name": "stdout",
     "output_type": "stream",
     "text": [
      "None\n"
     ]
    }
   ],
   "source": [
    "def foo():\n",
    "    pass\n",
    "print(foo()) #everything returns None if it doesnt return anything explicitlly "
   ]
  },
  {
   "cell_type": "code",
   "execution_count": 37,
   "metadata": {
    "state": "normal"
   },
   "outputs": [],
   "source": [
    "import math\n",
    "#dynamic language, cant enforce the types\n",
    "def quadratic_roots(a, b, c):\n",
    "    #could manually check types and then throw an error \n",
    "    disc = b**2-4*a*c #discriminant\n",
    "    if disc < 0:\n",
    "        #no real solns \n",
    "        return None\n",
    "    else:\n",
    "        return (-b+math.sqrt(disc))/(2*a), (-b-math.sqrt(disc))/(2*a)"
   ]
  },
  {
   "cell_type": "code",
   "execution_count": 38,
   "metadata": {
    "state": "normal"
   },
   "outputs": [
    {
     "data": {
      "text/plain": [
       "(3.0, 2.0)"
      ]
     },
     "execution_count": 38,
     "metadata": {},
     "output_type": "execute_result"
    }
   ],
   "source": [
    "#called using positional arguments, so we are matching the order we defined the function\n",
    "quadratic_roots(1, -5, 6) # eq = (x-3)(x-2)"
   ]
  },
  {
   "cell_type": "code",
   "execution_count": null,
   "metadata": {
    "state": "normal"
   },
   "outputs": [],
   "source": [
    "#naming your arguments based on the parameter names a,b,c \n",
    "quadratic_roots(a=1, b=-5, c=6)"
   ]
  },
  {
   "cell_type": "code",
   "execution_count": 39,
   "metadata": {
    "state": "normal"
   },
   "outputs": [
    {
     "data": {
      "text/plain": [
       "(3.0, 2.0)"
      ]
     },
     "execution_count": 39,
     "metadata": {},
     "output_type": "execute_result"
    }
   ],
   "source": [
    "quadratic_roots(c=6, a=1, b=-5)"
   ]
  },
  {
   "cell_type": "code",
   "execution_count": 40,
   "metadata": {
    "state": "normal"
   },
   "outputs": [],
   "source": [
    "def create_character(name, race, hitpoints, ability):\n",
    "    print('Name:', name)\n",
    "    print('Race:', race)\n",
    "    print('Hitpoints:', hitpoints)\n",
    "    print('Ability:', ability)"
   ]
  },
  {
   "cell_type": "code",
   "execution_count": null,
   "metadata": {
    "state": "normal"
   },
   "outputs": [],
   "source": [
    "create_character('Legolas', 'Elf', 100, 'Archery')"
   ]
  },
  {
   "cell_type": "code",
   "execution_count": 41,
   "metadata": {
    "state": "normal"
   },
   "outputs": [],
   "source": [
    "#you can add a default value directly to your params \n",
    "def create_character(name, race='Human', hitpoints=100, ability=None):\n",
    "    print('Name:', name)\n",
    "    print('Race:', race)\n",
    "    print('Hitpoints:', hitpoints)\n",
    "    if ability:\n",
    "        print('Ability:', ability)"
   ]
  },
  {
   "cell_type": "code",
   "execution_count": 42,
   "metadata": {
    "state": "normal"
   },
   "outputs": [
    {
     "name": "stdout",
     "output_type": "stream",
     "text": [
      "Name: Michael\n",
      "Race: Human\n",
      "Hitpoints: 100\n"
     ]
    }
   ],
   "source": [
    "create_character('Michael')"
   ]
  },
  {
   "cell_type": "code",
   "execution_count": 43,
   "metadata": {
    "state": "normal"
   },
   "outputs": [],
   "source": [
    "#changing default of abilities into an empty tuple \n",
    "def create_character(name, race='Human', hitpoints=100, abilities=()):\n",
    "    print('Name:', name)\n",
    "    print('Race:', race)\n",
    "    print('Hitpoints:', hitpoints)\n",
    "    if abilities:\n",
    "        print('Abilities:')\n",
    "        for ability in abilities:\n",
    "            print('  -', ability)"
   ]
  },
  {
   "cell_type": "code",
   "execution_count": 44,
   "metadata": {
    "state": "normal"
   },
   "outputs": [
    {
     "name": "stdout",
     "output_type": "stream",
     "text": [
      "Name: Gimli\n",
      "Race: Dwarf\n",
      "Hitpoints: 100\n"
     ]
    }
   ],
   "source": [
    "create_character('Gimli', race='Dwarf')"
   ]
  },
  {
   "cell_type": "code",
   "execution_count": 45,
   "metadata": {
    "state": "normal"
   },
   "outputs": [
    {
     "name": "stdout",
     "output_type": "stream",
     "text": [
      "Name: Gandalf\n",
      "Race: Human\n",
      "Hitpoints: 1000\n"
     ]
    }
   ],
   "source": [
    "#you can skip over and initialize later params by defining what your arg is \n",
    "create_character('Gandalf', hitpoints=1000)"
   ]
  },
  {
   "cell_type": "code",
   "execution_count": null,
   "metadata": {
    "state": "normal"
   },
   "outputs": [],
   "source": [
    "create_character('Aragorn', abilities=('Swording', 'Healing'))"
   ]
  },
  {
   "cell_type": "code",
   "execution_count": 47,
   "metadata": {
    "state": "normal"
   },
   "outputs": [],
   "source": [
    "# could be annoying that you have to package abilities into a tuple, you can use a star parameter: collects 0 or more arguments starting from that position \n",
    "# usually put optional params at the end so you have to name them\n",
    "# required positional, then overflow, then optional named params \n",
    "def create_character(name, *abilities, race='Human', hitpoints=100):\n",
    "    print('Name:', name)\n",
    "    print('Race:', race)\n",
    "    print('Hitpoints:', hitpoints)\n",
    "    if abilities:\n",
    "        print('Abilities:')\n",
    "        # we still expect its something iterable \n",
    "        for ability in abilities:\n",
    "            print('  -', ability)\n",
    "\n",
    "#added is the two star **attribs, which is a keyword parameter that allows you to take away the named params\n",
    "#def create_character(name, *abilities, **attribs):\n",
    "#    print('Name:', name)\n",
    "#    print('Race:', race)\n",
    "#    print('Hitpoints:', hitpoints)\n",
    "#    if abilities:\n",
    "#        print('Abilities:')\n",
    "        # we still expect its something iterable \n",
    "#        for key in attribs:\n",
    "#            print('  -', ability)\n"
   ]
  },
  {
   "cell_type": "code",
   "execution_count": 48,
   "metadata": {
    "state": "normal"
   },
   "outputs": [
    {
     "name": "stdout",
     "output_type": "stream",
     "text": [
      "Name: Michael\n",
      "Race: Human\n",
      "Hitpoints: 100\n"
     ]
    }
   ],
   "source": [
    "create_character('Michael')"
   ]
  },
  {
   "cell_type": "code",
   "execution_count": 51,
   "metadata": {
    "state": "normal"
   },
   "outputs": [
    {
     "name": "stdout",
     "output_type": "stream",
     "text": [
      "Name: Michael\n",
      "Race: Human\n",
      "Hitpoints: 25\n",
      "Abilities:\n",
      "  - Coding\n",
      "  - Teaching\n",
      "  - Sleeping\n"
     ]
    }
   ],
   "source": [
    "create_character('Michael', 'Coding', 'Teaching', 'Sleeping', hitpoints=25)"
   ]
  },
  {
   "attachments": {},
   "cell_type": "markdown",
   "metadata": {},
   "source": [
    "### Function annotations\n",
    "-python defines a syntax for type annotations in function defs that let us document the expected argument and return types. These types though are *not* enforced but are useful for documentation"
   ]
  },
  {
   "cell_type": "code",
   "execution_count": null,
   "metadata": {},
   "outputs": [],
   "source": [
    "def takes_two_ints_and_returns_int(i: int, j: int) -> int:\n",
    "    return i + j"
   ]
  },
  {
   "cell_type": "code",
   "execution_count": 52,
   "metadata": {},
   "outputs": [],
   "source": [
    "def takes_str_returns_None(s: str) -> None:\n",
    "    print(s)"
   ]
  },
  {
   "cell_type": "code",
   "execution_count": null,
   "metadata": {},
   "outputs": [],
   "source": [
    "def returns_tuple_of_str_int_float() -> tuple[str,int,float]:\n",
    "    return ('hi', 42, 3.14)"
   ]
  },
  {
   "cell_type": "code",
   "execution_count": null,
   "metadata": {},
   "outputs": [],
   "source": [
    "def takes_int_returns_str_or_int_or_float(i: int) -> str|int|float: #| or \n",
    "    if i == 0:\n",
    "        return 'hi'\n",
    "    elif i == 1:\n",
    "        return 42\n",
    "    else:\n",
    "        return 3.14"
   ]
  },
  {
   "cell_type": "code",
   "execution_count": null,
   "metadata": {},
   "outputs": [],
   "source": [
    "def takes_str_returns_int(s: str = 'defval') -> int:\n",
    "    return len(s)"
   ]
  },
  {
   "attachments": {},
   "cell_type": "markdown",
   "metadata": {
    "state": "normal"
   },
   "source": [
    "### Functions as Objects"
   ]
  },
  {
   "cell_type": "code",
   "execution_count": 53,
   "metadata": {
    "state": "normal"
   },
   "outputs": [
    {
     "name": "stdout",
     "output_type": "stream",
     "text": [
      "Foo called\n"
     ]
    }
   ],
   "source": [
    "#functions are just objects, languages with first class functions (functions that can be passed around)\n",
    "def foo():\n",
    "    print('Foo called')\n",
    "    \n",
    "bar = foo #because its first order I can just assign to a variable \n",
    "bar()"
   ]
  },
  {
   "cell_type": "code",
   "execution_count": null,
   "metadata": {
    "state": "normal"
   },
   "outputs": [],
   "source": [
    "#useful, takes as a param a fxn f (its your callback)\n",
    "def foo(f):\n",
    "    f()\n",
    "    \n",
    "def bar():\n",
    "    print('Bar called')\n",
    "    \n",
    "foo(bar)"
   ]
  },
  {
   "cell_type": "code",
   "execution_count": 56,
   "metadata": {
    "state": "normal"
   },
   "outputs": [
    {
     "name": "stdout",
     "output_type": "stream",
     "text": [
      "Anonymous function called\n"
     ]
    }
   ],
   "source": [
    "#lambda functions are an alternate to defining using def. These are anonymous functions in that we dont give it a name, usually a one liner \n",
    "# keyword comes from the lambda calculus programming language \n",
    "\n",
    "\n",
    "lambda: print('Anonymous function called')()\n",
    " #evalulate just this get a function inside the main module that takes no args \n",
    " #if i do it this way its a one time use\n",
    "foo = lambda: print('Anonymous function called')\n",
    "foo()\n"
   ]
  },
  {
   "cell_type": "code",
   "execution_count": 57,
   "metadata": {
    "state": "normal"
   },
   "outputs": [
    {
     "data": {
      "text/plain": [
       "3"
      ]
     },
     "execution_count": 57,
     "metadata": {},
     "output_type": "execute_result"
    }
   ],
   "source": [
    "#lambda that takes args\n",
    "#dont need or want returns in lambdas \n",
    "#usually making fxns to pass elsewhere\n",
    "f = lambda x,y: x+y\n",
    "\n",
    "f(1,2)"
   ]
  },
  {
   "cell_type": "code",
   "execution_count": 60,
   "metadata": {
    "state": "normal"
   },
   "outputs": [],
   "source": [
    "#higher order fxn, f is our callback, itll iterate over it and call f on each val \n",
    "def my_map(f, it):\n",
    "    for x in it:\n",
    "        print(f(x))"
   ]
  },
  {
   "cell_type": "code",
   "execution_count": 61,
   "metadata": {
    "state": "normal"
   },
   "outputs": [
    {
     "name": "stdout",
     "output_type": "stream",
     "text": [
      "2\n",
      "4\n",
      "6\n",
      "8\n",
      "10\n",
      "12\n",
      "14\n",
      "16\n",
      "18\n"
     ]
    }
   ],
   "source": [
    "my_map(lambda x: x*2, range(1,10))"
   ]
  },
  {
   "cell_type": "code",
   "execution_count": 58,
   "metadata": {
    "state": "normal"
   },
   "outputs": [
    {
     "name": "stdout",
     "output_type": "stream",
     "text": [
      "2\n",
      "4\n",
      "6\n",
      "8\n",
      "10\n",
      "12\n",
      "14\n",
      "16\n",
      "18\n"
     ]
    }
   ],
   "source": [
    "# this is a standard higher order fxn \n",
    "for x in map(lambda x: x*2, range(1,10)):\n",
    "    print(x)"
   ]
  },
  {
   "cell_type": "code",
   "execution_count": 62,
   "metadata": {
    "state": "normal"
   },
   "outputs": [
    {
     "data": {
      "text/plain": [
       "function"
      ]
     },
     "execution_count": 62,
     "metadata": {},
     "output_type": "execute_result"
    }
   ],
   "source": [
    "def foo():\n",
    "    print('Foo called')\n",
    "\n",
    "# yep functions are their own object\n",
    "type(foo)"
   ]
  },
  {
   "cell_type": "code",
   "execution_count": 63,
   "metadata": {
    "state": "normal"
   },
   "outputs": [
    {
     "data": {
      "text/plain": [
       "['__annotations__',\n",
       " '__builtins__',\n",
       " '__call__',\n",
       " '__class__',\n",
       " '__closure__',\n",
       " '__code__',\n",
       " '__defaults__',\n",
       " '__delattr__',\n",
       " '__dict__',\n",
       " '__dir__',\n",
       " '__doc__',\n",
       " '__eq__',\n",
       " '__format__',\n",
       " '__ge__',\n",
       " '__get__',\n",
       " '__getattribute__',\n",
       " '__globals__',\n",
       " '__gt__',\n",
       " '__hash__',\n",
       " '__init__',\n",
       " '__init_subclass__',\n",
       " '__kwdefaults__',\n",
       " '__le__',\n",
       " '__lt__',\n",
       " '__module__',\n",
       " '__name__',\n",
       " '__ne__',\n",
       " '__new__',\n",
       " '__qualname__',\n",
       " '__reduce__',\n",
       " '__reduce_ex__',\n",
       " '__repr__',\n",
       " '__setattr__',\n",
       " '__sizeof__',\n",
       " '__str__',\n",
       " '__subclasshook__']"
      ]
     },
     "execution_count": 63,
     "metadata": {},
     "output_type": "execute_result"
    }
   ],
   "source": [
    "#look at all the class attributes \n",
    "dir(foo)"
   ]
  },
  {
   "cell_type": "code",
   "execution_count": null,
   "metadata": {
    "state": "normal"
   },
   "outputs": [],
   "source": [
    "#call special method is what you are calling on the function when you call it \n",
    "# so we can define our own classes of things that can act and behave like functions \n",
    "# referred to as metaprogramming \n",
    "foo.__call__()"
   ]
  },
  {
   "attachments": {},
   "cell_type": "markdown",
   "metadata": {
    "state": "normal"
   },
   "source": [
    "## 6. OOP (Classes, Methods, etc.)"
   ]
  },
  {
   "cell_type": "code",
   "execution_count": 65,
   "metadata": {
    "state": "normal"
   },
   "outputs": [],
   "source": [
    "#simplest class def \n",
    "class Foo:\n",
    "    pass"
   ]
  },
  {
   "cell_type": "code",
   "execution_count": 66,
   "metadata": {
    "state": "normal"
   },
   "outputs": [
    {
     "data": {
      "text/plain": [
       "type"
      ]
     },
     "execution_count": 66,
     "metadata": {},
     "output_type": "execute_result"
    }
   ],
   "source": [
    "type(Foo)\n",
    "#it is of the type type "
   ]
  },
  {
   "cell_type": "code",
   "execution_count": 68,
   "metadata": {
    "state": "normal"
   },
   "outputs": [
    {
     "data": {
      "text/plain": [
       "<__main__.Foo at 0x7f3af41569b0>"
      ]
     },
     "execution_count": 68,
     "metadata": {},
     "output_type": "execute_result"
    }
   ],
   "source": [
    "#calling the constructor \n",
    "# we define initializers not constructors itself\n",
    "# there is a default __init__ we inherit, it pretty much just allocates memory \n",
    "Foo()\n",
    "# you created a value of type __main__.Foo at the address y "
   ]
  },
  {
   "cell_type": "code",
   "execution_count": 69,
   "metadata": {
    "state": "normal"
   },
   "outputs": [
    {
     "data": {
      "text/plain": [
       "__main__.Foo"
      ]
     },
     "execution_count": 69,
     "metadata": {},
     "output_type": "execute_result"
    }
   ],
   "source": [
    "#type of the object that we created with the constructor \n",
    "type(Foo())"
   ]
  },
  {
   "cell_type": "code",
   "execution_count": 70,
   "metadata": {},
   "outputs": [
    {
     "data": {
      "text/plain": [
       "'__main__'"
      ]
     },
     "execution_count": 70,
     "metadata": {},
     "output_type": "execute_result"
    }
   ],
   "source": [
    "#special variable (denoted with __var__)\n",
    "__name__ # name of the current \"module\" (for this notebook), everything is scoped under the module named __name__, thats the namespace"
   ]
  },
  {
   "cell_type": "code",
   "execution_count": 72,
   "metadata": {
    "state": "normal"
   },
   "outputs": [],
   "source": [
    "f = Foo()"
   ]
  },
  {
   "cell_type": "code",
   "execution_count": 74,
   "metadata": {
    "state": "normal"
   },
   "outputs": [
    {
     "data": {
      "text/plain": [
       "150"
      ]
     },
     "execution_count": 74,
     "metadata": {},
     "output_type": "execute_result"
    }
   ],
   "source": [
    "#because its a dynamic language we can add in attributes, or an instance variable \n",
    "# in static types your class NEEDS to already have the instance variables declared/initialized in there, if you havent declared them you cant use them \n",
    "f.x = 100\n",
    "f.y = 50\n",
    "f.x + f.y"
   ]
  },
  {
   "cell_type": "code",
   "execution_count": 75,
   "metadata": {
    "state": "normal"
   },
   "outputs": [
    {
     "ename": "AttributeError",
     "evalue": "'Foo' object has no attribute 'x'",
     "output_type": "error",
     "traceback": [
      "\u001b[0;31m---------------------------------------------------------------------------\u001b[0m",
      "\u001b[0;31mAttributeError\u001b[0m                            Traceback (most recent call last)",
      "Cell \u001b[0;32mIn[75], line 2\u001b[0m\n\u001b[1;32m      1\u001b[0m g \u001b[38;5;241m=\u001b[39m Foo()\n\u001b[0;32m----> 2\u001b[0m \u001b[43mg\u001b[49m\u001b[38;5;241;43m.\u001b[39;49m\u001b[43mx\u001b[49m\n",
      "\u001b[0;31mAttributeError\u001b[0m: 'Foo' object has no attribute 'x'"
     ]
    }
   ],
   "source": [
    "g = Foo()\n",
    "# i didnt assign these instance variables to g, i assigned to f \n",
    "g.x"
   ]
  },
  {
   "cell_type": "code",
   "execution_count": 76,
   "metadata": {},
   "outputs": [],
   "source": [
    "class Foo:\n",
    "    #creating attributes in a class\n",
    "    bar = 100"
   ]
  },
  {
   "cell_type": "code",
   "execution_count": 77,
   "metadata": {},
   "outputs": [
    {
     "data": {
      "text/plain": [
       "100"
      ]
     },
     "execution_count": 77,
     "metadata": {},
     "output_type": "execute_result"
    }
   ],
   "source": [
    "#im looking directly in the class, therefore bar is a class (static) attribute not an instance attribute \n",
    "Foo.bar"
   ]
  },
  {
   "cell_type": "code",
   "execution_count": 79,
   "metadata": {},
   "outputs": [
    {
     "data": {
      "text/plain": [
       "100"
      ]
     },
     "execution_count": 79,
     "metadata": {},
     "output_type": "execute_result"
    }
   ],
   "source": [
    "#i can access class attributes via instances \n",
    "f = Foo()\n",
    "f.bar"
   ]
  },
  {
   "cell_type": "code",
   "execution_count": 80,
   "metadata": {},
   "outputs": [
    {
     "data": {
      "text/plain": [
       "50"
      ]
     },
     "execution_count": 80,
     "metadata": {},
     "output_type": "execute_result"
    }
   ],
   "source": [
    "\n",
    "Foo.bar = 50\n",
    "#i updated the class attribute, but f.bar is just a view into the class attribute \n",
    "f.bar"
   ]
  },
  {
   "cell_type": "code",
   "execution_count": 81,
   "metadata": {},
   "outputs": [
    {
     "data": {
      "text/plain": [
       "50"
      ]
     },
     "execution_count": 81,
     "metadata": {},
     "output_type": "execute_result"
    }
   ],
   "source": [
    "g = Foo()\n",
    "g.bar"
   ]
  },
  {
   "cell_type": "code",
   "execution_count": 82,
   "metadata": {},
   "outputs": [],
   "source": [
    "#assigning different values \n",
    "# they now all have an instance attribute now called bar \n",
    "# as soon as you start manipulating the isntance you are making an instance variable \n",
    "f.bar = 20\n",
    "g.bar = 30"
   ]
  },
  {
   "cell_type": "code",
   "execution_count": 83,
   "metadata": {},
   "outputs": [
    {
     "data": {
      "text/plain": [
       "(20, 30, 50)"
      ]
     },
     "execution_count": 83,
     "metadata": {},
     "output_type": "execute_result"
    }
   ],
   "source": [
    "#possibility: modified the class attribute twice, now 30 thats visible to all of them \n",
    "# but i didnt \n",
    "f.bar, g.bar, Foo.bar"
   ]
  },
  {
   "cell_type": "code",
   "execution_count": 85,
   "metadata": {
    "state": "normal"
   },
   "outputs": [],
   "source": [
    "class Foo:\n",
    "    #defining a class method \n",
    "    def bar():\n",
    "        print('Bar called')"
   ]
  },
  {
   "cell_type": "code",
   "execution_count": 86,
   "metadata": {
    "state": "normal"
   },
   "outputs": [
    {
     "data": {
      "text/plain": [
       "function"
      ]
     },
     "execution_count": 86,
     "metadata": {},
     "output_type": "execute_result"
    }
   ],
   "source": [
    "type(Foo.bar)"
   ]
  },
  {
   "cell_type": "code",
   "execution_count": 88,
   "metadata": {
    "state": "normal"
   },
   "outputs": [],
   "source": [
    "# create an instance of foo \n",
    "f = Foo()"
   ]
  },
  {
   "cell_type": "code",
   "execution_count": 89,
   "metadata": {
    "state": "normal"
   },
   "outputs": [
    {
     "data": {
      "text/plain": [
       "method"
      ]
     },
     "execution_count": 89,
     "metadata": {},
     "output_type": "execute_result"
    }
   ],
   "source": [
    "# now called a method \n",
    "# python weirdness, the window through which you view the function changes the type. View through the class its a fxn, view thru the instance its a method\n",
    "# methods implicitlly add the argument self \n",
    "type(f.bar)"
   ]
  },
  {
   "cell_type": "code",
   "execution_count": 90,
   "metadata": {
    "state": "normal"
   },
   "outputs": [
    {
     "name": "stdout",
     "output_type": "stream",
     "text": [
      "Bar called\n"
     ]
    }
   ],
   "source": [
    "Foo.bar()"
   ]
  },
  {
   "cell_type": "code",
   "execution_count": 91,
   "metadata": {
    "scrolled": true,
    "state": "normal"
   },
   "outputs": [
    {
     "ename": "TypeError",
     "evalue": "Foo.bar() takes 0 positional arguments but 1 was given",
     "output_type": "error",
     "traceback": [
      "\u001b[0;31m---------------------------------------------------------------------------\u001b[0m",
      "\u001b[0;31mTypeError\u001b[0m                                 Traceback (most recent call last)",
      "Cell \u001b[0;32mIn[91], line 1\u001b[0m\n\u001b[0;32m----> 1\u001b[0m \u001b[43mf\u001b[49m\u001b[38;5;241;43m.\u001b[39;49m\u001b[43mbar\u001b[49m\u001b[43m(\u001b[49m\u001b[43m)\u001b[49m\n",
      "\u001b[0;31mTypeError\u001b[0m: Foo.bar() takes 0 positional arguments but 1 was given"
     ]
    }
   ],
   "source": [
    "#why is there an error: \n",
    "#   type error, gives an error that one was given, its self \n",
    "f.bar()\n",
    "#is identical to Foo(bar(f))"
   ]
  },
  {
   "cell_type": "code",
   "execution_count": 92,
   "metadata": {
    "state": "normal"
   },
   "outputs": [],
   "source": [
    "class Foo:\n",
    "    def bar(x):\n",
    "        print('Bar called with', x)"
   ]
  },
  {
   "cell_type": "code",
   "execution_count": 93,
   "metadata": {
    "state": "normal"
   },
   "outputs": [
    {
     "ename": "TypeError",
     "evalue": "Foo.bar() missing 1 required positional argument: 'x'",
     "output_type": "error",
     "traceback": [
      "\u001b[0;31m---------------------------------------------------------------------------\u001b[0m",
      "\u001b[0;31mTypeError\u001b[0m                                 Traceback (most recent call last)",
      "Cell \u001b[0;32mIn[93], line 1\u001b[0m\n\u001b[0;32m----> 1\u001b[0m \u001b[43mFoo\u001b[49m\u001b[38;5;241;43m.\u001b[39;49m\u001b[43mbar\u001b[49m\u001b[43m(\u001b[49m\u001b[43m)\u001b[49m\n",
      "\u001b[0;31mTypeError\u001b[0m: Foo.bar() missing 1 required positional argument: 'x'"
     ]
    }
   ],
   "source": [
    "Foo.bar()"
   ]
  },
  {
   "cell_type": "code",
   "execution_count": 94,
   "metadata": {
    "state": "normal"
   },
   "outputs": [
    {
     "name": "stdout",
     "output_type": "stream",
     "text": [
      "Bar called with <__main__.Foo object at 0x7f3af44c1270>\n"
     ]
    }
   ],
   "source": [
    "f = Foo()\n",
    "f.bar()"
   ]
  },
  {
   "cell_type": "code",
   "execution_count": 96,
   "metadata": {
    "state": "normal"
   },
   "outputs": [],
   "source": [
    "class Foo:\n",
    "    #self is pure convention \n",
    "    def bar(self):\n",
    "        #im introducing an instance variable x \n",
    "        self.x = 'Some value'"
   ]
  },
  {
   "cell_type": "code",
   "execution_count": 97,
   "metadata": {
    "state": "normal"
   },
   "outputs": [
    {
     "data": {
      "text/plain": [
       "'Some value'"
      ]
     },
     "execution_count": 97,
     "metadata": {},
     "output_type": "execute_result"
    }
   ],
   "source": [
    "f = Foo()\n",
    "f.bar()\n",
    "f.x"
   ]
  },
  {
   "cell_type": "code",
   "execution_count": 98,
   "metadata": {
    "state": "normal"
   },
   "outputs": [],
   "source": [
    "class Shape:\n",
    "    #this is our intiializer, automatically called after the constructor, so anything we give to our constructor as args will be passed down to initializer  \n",
    "    def __init__(self, name):\n",
    "        self.name = name\n",
    "        #instance variable we give a set value in our initializer\n",
    "        self.example = 0 \n",
    "    #representation, allow user to more easily see what the obj is      \n",
    "    def __repr__(self):\n",
    "        return self.name\n",
    "    #string, refers to the string intialization of it \n",
    "    def __str__(self):\n",
    "        return self.name.upper()\n",
    "    # only non special method \n",
    "    def area(self):\n",
    "        raise NotImplementedError()"
   ]
  },
  {
   "cell_type": "code",
   "execution_count": 99,
   "metadata": {
    "state": "normal"
   },
   "outputs": [],
   "source": [
    "s = Shape('circle')"
   ]
  },
  {
   "cell_type": "code",
   "execution_count": 100,
   "metadata": {
    "state": "normal"
   },
   "outputs": [
    {
     "data": {
      "text/plain": [
       "circle"
      ]
     },
     "execution_count": 100,
     "metadata": {},
     "output_type": "execute_result"
    }
   ],
   "source": [
    "s\n",
    "# it gives our __repr__"
   ]
  },
  {
   "cell_type": "code",
   "execution_count": 101,
   "metadata": {
    "state": "normal"
   },
   "outputs": [
    {
     "data": {
      "text/plain": [
       "'CIRCLE'"
      ]
     },
     "execution_count": 101,
     "metadata": {},
     "output_type": "execute_result"
    }
   ],
   "source": [
    "# performs __str__\n",
    "str(s)"
   ]
  },
  {
   "cell_type": "code",
   "execution_count": 102,
   "metadata": {},
   "outputs": [
    {
     "name": "stdout",
     "output_type": "stream",
     "text": [
      "CIRCLE\n"
     ]
    }
   ],
   "source": [
    "# print takes an obj and converts it into a string\n",
    "print(s)"
   ]
  },
  {
   "cell_type": "code",
   "execution_count": 103,
   "metadata": {
    "state": "normal"
   },
   "outputs": [
    {
     "ename": "NotImplementedError",
     "evalue": "",
     "output_type": "error",
     "traceback": [
      "\u001b[0;31m---------------------------------------------------------------------------\u001b[0m",
      "\u001b[0;31mNotImplementedError\u001b[0m                       Traceback (most recent call last)",
      "Cell \u001b[0;32mIn[103], line 1\u001b[0m\n\u001b[0;32m----> 1\u001b[0m \u001b[43ms\u001b[49m\u001b[38;5;241;43m.\u001b[39;49m\u001b[43marea\u001b[49m\u001b[43m(\u001b[49m\u001b[43m)\u001b[49m\n",
      "Cell \u001b[0;32mIn[98], line 15\u001b[0m, in \u001b[0;36mShape.area\u001b[0;34m(self)\u001b[0m\n\u001b[1;32m     14\u001b[0m \u001b[38;5;28;01mdef\u001b[39;00m \u001b[38;5;21marea\u001b[39m(\u001b[38;5;28mself\u001b[39m):\n\u001b[0;32m---> 15\u001b[0m     \u001b[38;5;28;01mraise\u001b[39;00m \u001b[38;5;167;01mNotImplementedError\u001b[39;00m()\n",
      "\u001b[0;31mNotImplementedError\u001b[0m: "
     ]
    }
   ],
   "source": [
    "s.area()"
   ]
  },
  {
   "cell_type": "code",
   "execution_count": 104,
   "metadata": {
    "state": "normal"
   },
   "outputs": [],
   "source": [
    "class Circle(Shape):\n",
    "    # we have our own additional class argument \n",
    "    def __init__(self, radius):\n",
    "        #inherits from circle \n",
    "        #single inheritance, only one parent \n",
    "        #need to give in the instance variables of the parent class\n",
    "        super().__init__('circle')\n",
    "        self.radius = radius\n",
    "    \n",
    "    def area(self):\n",
    "        return 3.14 * self.radius ** 2"
   ]
  },
  {
   "cell_type": "code",
   "execution_count": null,
   "metadata": {
    "state": "normal"
   },
   "outputs": [],
   "source": [
    "c = Circle(5.0)\n",
    "c"
   ]
  },
  {
   "cell_type": "code",
   "execution_count": null,
   "metadata": {
    "state": "normal"
   },
   "outputs": [],
   "source": [
    "c.area()"
   ]
  },
  {
   "cell_type": "code",
   "execution_count": 106,
   "metadata": {
    "state": "normal"
   },
   "outputs": [],
   "source": [
    "class Circle(Shape):\n",
    "    def __init__(self, radius):\n",
    "        super().__init__('circle')\n",
    "        self.radius = radius\n",
    "    \n",
    "    def area(self):\n",
    "        return 3.14 * self.radius ** 2\n",
    "    \n",
    "    #implements ==\n",
    "    def __eq__(self, other):\n",
    "        #checks the class type, and if its the same radius, its the same then theyre equiv \n",
    "        return isinstance(other, Circle) and self.radius == other.radius\n",
    "    \n",
    "    def __add__(self, other):\n",
    "        \n",
    "        return Circle(self.radius + other.radius)\n",
    "    #redefined repr to give the radius \n",
    "    def __repr__(self):\n",
    "        return f'Circle(r={self.radius})'"
   ]
  },
  {
   "cell_type": "code",
   "execution_count": 107,
   "metadata": {
    "state": "normal"
   },
   "outputs": [
    {
     "data": {
      "text/plain": [
       "(Circle(r=2.0), Circle(r=4.0), Circle(r=2.0), False, True, Circle(r=6.0))"
      ]
     },
     "execution_count": 107,
     "metadata": {},
     "output_type": "execute_result"
    }
   ],
   "source": [
    "c1 = Circle(2.0)\n",
    "c2 = Circle(4.0)\n",
    "c3 = Circle(2.0)\n",
    "\n",
    "(\n",
    "    c1, c2, c3,\n",
    "    c1 == c2,\n",
    "    c1 == c3,\n",
    "    c1 + c2\n",
    ")"
   ]
  }
 ],
 "metadata": {
  "kernelspec": {
   "display_name": "Python 3",
   "language": "python",
   "name": "python3"
  },
  "language_info": {
   "codemirror_mode": {
    "name": "ipython",
    "version": 3
   },
   "file_extension": ".py",
   "mimetype": "text/x-python",
   "name": "python",
   "nbconvert_exporter": "python",
   "pygments_lexer": "ipython3",
   "version": "3.10.13"
  },
  "mimir": {
   "data": {},
   "last_submission_id": "",
   "project_id": "dd0defe7-3363-4a9f-8119-5a4542b3b73c"
  },
  "varInspector": {
   "cols": {
    "lenName": 16,
    "lenType": 16,
    "lenVar": 40
   },
   "kernels_config": {
    "python": {
     "delete_cmd_postfix": "",
     "delete_cmd_prefix": "del ",
     "library": "var_list.py",
     "varRefreshCmd": "print(var_dic_list())"
    },
    "r": {
     "delete_cmd_postfix": ") ",
     "delete_cmd_prefix": "rm(",
     "library": "var_list.r",
     "varRefreshCmd": "cat(var_dic_list()) "
    }
   },
   "types_to_exclude": [
    "module",
    "function",
    "builtin_function_or_method",
    "instance",
    "_Feature"
   ],
   "window_display": false
  }
 },
 "nbformat": 4,
 "nbformat_minor": 4
}
